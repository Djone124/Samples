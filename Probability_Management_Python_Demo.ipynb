{
  "nbformat": 4,
  "nbformat_minor": 0,
  "metadata": {
    "colab": {
      "name": "Probability Management Python Demo.ipynb",
      "provenance": [],
      "mount_file_id": "1_1JwqHxzNPzN3QLKlEMwWw193wdrzxWV",
      "authorship_tag": "ABX9TyM9hBAY6fxJhMEZ7t3dVnBe",
      "include_colab_link": true
    },
    "kernelspec": {
      "name": "python3",
      "display_name": "Python 3"
    }
  },
  "cells": [
    {
      "cell_type": "markdown",
      "metadata": {
        "id": "view-in-github",
        "colab_type": "text"
      },
      "source": [
        "<a href=\"https://colab.research.google.com/github/Djone124/Samples/blob/master/Probability_Management_Python_Demo.ipynb\" target=\"_parent\"><img src=\"https://colab.research.google.com/assets/colab-badge.svg\" alt=\"Open In Colab\"/></a>"
      ]
    },
    {
      "cell_type": "markdown",
      "metadata": {
        "id": "_PmFGEtz9aaW"
      },
      "source": [
        "# Python Demo for Probability Management\n",
        "---\n",
        "Created by: Daniel ONeil\n",
        "\n",
        "\n"
      ]
    },
    {
      "cell_type": "code",
      "metadata": {
        "id": "feKGNtxlSSTK",
        "colab": {
          "base_uri": "https://localhost:8080/"
        },
        "outputId": "9580df10-dff1-446b-98df-5c0b167c7260"
      },
      "source": [
        "# Clone the entire repo.\n",
        "!git clone -l -s git://github.com/probability-management/PyHDR.git Github\n",
        "!pwd\n",
        "!ls"
      ],
      "execution_count": null,
      "outputs": [
        {
          "output_type": "stream",
          "text": [
            "Cloning into 'Github'...\n",
            "warning: --local is ignored\n",
            "remote: Enumerating objects: 53, done.\u001b[K\n",
            "remote: Counting objects: 100% (53/53), done.\u001b[K\n",
            "remote: Compressing objects: 100% (45/45), done.\u001b[K\n",
            "remote: Total 53 (delta 15), reused 10 (delta 1), pack-reused 0\u001b[K\n",
            "Receiving objects: 100% (53/53), 10.83 KiB | 5.42 MiB/s, done.\n",
            "Resolving deltas: 100% (15/15), done.\n",
            "/content\n",
            "drive  Github  sample_data\n"
          ],
          "name": "stdout"
        }
      ]
    },
    {
      "cell_type": "code",
      "metadata": {
        "id": "uRCx6Uk2SdtY"
      },
      "source": [
        "from Github.PyHDR.hdr import hdr\n",
        "import pandas as pd\n",
        "import matplotlib.pyplot as plt\n",
        "import math\n",
        "\n",
        "pm_trials = 100000 #@param {type:\"number\"}\n",
        "var =  1#@param {type:\"number\"}\n",
        "ent = 1 #@param {type:\"number\"}\n",
        "\n",
        "randoms = hdr(pm_trials=pm_trials, var=var, ent=ent, attr1=0, attr2=0, round_off= 15)"
      ],
      "execution_count": null,
      "outputs": []
    },
    {
      "cell_type": "code",
      "metadata": {
        "id": "owDOjZg7ZbL9",
        "colab": {
          "base_uri": "https://localhost:8080/",
          "height": 303
        },
        "outputId": "4c307581-43d2-4426-fb19-305b9eb3a1fa"
      },
      "source": [
        "import matplotlib.pyplot as plt\n",
        "plt.hist(randoms)\n",
        "print(randoms[0:10])\n",
        "plt.show()"
      ],
      "execution_count": null,
      "outputs": [
        {
          "output_type": "stream",
          "text": [
            "[0.909735540277325, 0.758689801557921, 0.079859277117066, 0.520371895632707, 0.117466418654658, 0.680637353449129, 0.841737384558655, 0.614733524038456, 0.798059064778499, 0.203580665052868]\n"
          ],
          "name": "stdout"
        },
        {
          "output_type": "display_data",
          "data": {
            "image/png": "[encoded data removed]",
            "text/plain": [
              "<Figure size 432x288 with 1 Axes>"
            ]
          },
          "metadata": {
            "tags": [],
            "needs_background": "light"
          }
        }
      ]
    },
    {
      "cell_type": "code",
      "metadata": {
        "id": "G2Kru3l3T7Xa",
        "colab": {
          "base_uri": "https://localhost:8080/"
        },
        "outputId": "930326dc-f0fb-492e-d01c-4defe8b72d36"
      },
      "source": [
        "metalogArray = []\n",
        "\n",
        "def monteCarlo(randoms, array): \n",
        "  for rand in randoms:\n",
        "    metalogVal = (0+5*math.exp(math.log((2-0)/(5-2))+(1/2)*(math.log((1-0.25)/0.25))**-1*math.log(((3-0)/(5-3))/((1.5-0)/(5-1.5)))*math.log(rand/(1-rand))+((1-2*0.25)*(math.log((1-0.25)/0.25)))**-1*math.log((((3-0)/(5-3))*((1.5-0)/(5-1.5)))/((2-0)/(5-2))**2)*(rand-0.5)*math.log(rand/(1-rand))))/(1+math.exp(math.log((2-0)/(5-2))+(1/2)*(math.log((1-0.25)/0.25))**-1*math.log(((3-0)/(5-3))/((1.5-0)/(5-1.5)))*math.log(rand/(1-rand))+((1-2*0.25)*(math.log((1-0.25)/0.25)))**-1*math.log((((3-0)/(5-3))*((1.5-0)/(5-1.5)))/((2-0)/(5-2))**2)*(rand-0.5)*math.log(rand/(1-rand))))\n",
        "\n",
        "    array.append (float('{0:.16f}'.format(metalogVal)))\n",
        "\n",
        "  return metalogArray\n",
        "\n",
        "\n",
        "print(monteCarlo(randoms, metalogArray)[0:10])\n",
        "#print (\"{0:.2f}\".format(trial) for trial in monteCarlo(randoms,metalogArray))\n"
      ],
      "execution_count": null,
      "outputs": [
        {
          "output_type": "stream",
          "text": [
            "[4.123067372302027, 3.049355747589022, 1.2402439999825625, 2.0573853525782777, 1.3087273125611305, 2.6471046575433466, 3.586532886664577, 2.371320038746985, 3.2887344083748227, 1.433455555569622]\n"
          ],
          "name": "stdout"
        }
      ]
    },
    {
      "cell_type": "code",
      "metadata": {
        "id": "sCrGTpslwcMI",
        "colab": {
          "base_uri": "https://localhost:8080/",
          "height": 265
        },
        "outputId": "550c18d3-b3c2-4a9a-85ef-bed162a79951"
      },
      "source": [
        "import matplotlib.pyplot as plt\n",
        "plt.hist(metalogArray,bins = 100,histtype='step')\n",
        "\n",
        "plt.show()"
      ],
      "execution_count": null,
      "outputs": [
        {
          "output_type": "display_data",
          "data": {
            "image/png": "[encoded data removed]",
            "text/plain": [
              "<Figure size 432x288 with 1 Axes>"
            ]
          },
          "metadata": {
            "tags": [],
            "needs_background": "light"
          }
        }
      ]
    },
    {
      "cell_type": "code",
      "metadata": {
        "colab": {
          "base_uri": "https://localhost:8080/",
          "height": 297
        },
        "id": "lnvvq60-Q6vx",
        "outputId": "8b20bdfc-48da-4750-d826-c0a2062374c6"
      },
      "source": [
        "# summary\n",
        "\n",
        "df = pd.DataFrame(metalogArray)\n",
        "\n",
        "df.describe()"
      ],
      "execution_count": null,
      "outputs": [
        {
          "output_type": "execute_result",
          "data": {
            "text/html": [
              "<div>\n",
              "<style scoped>\n",
              "    .dataframe tbody tr th:only-of-type {\n",
              "        vertical-align: middle;\n",
              "    }\n",
              "\n",
              "    .dataframe tbody tr th {\n",
              "        vertical-align: top;\n",
              "    }\n",
              "\n",
              "    .dataframe thead th {\n",
              "        text-align: right;\n",
              "    }\n",
              "</style>\n",
              "<table border=\"1\" class=\"dataframe\">\n",
              "  <thead>\n",
              "    <tr style=\"text-align: right;\">\n",
              "      <th></th>\n",
              "      <th>0</th>\n",
              "    </tr>\n",
              "  </thead>\n",
              "  <tbody>\n",
              "    <tr>\n",
              "      <th>count</th>\n",
              "      <td>100000.000000</td>\n",
              "    </tr>\n",
              "    <tr>\n",
              "      <th>mean</th>\n",
              "      <td>2.332232</td>\n",
              "    </tr>\n",
              "    <tr>\n",
              "      <th>std</th>\n",
              "      <td>1.043913</td>\n",
              "    </tr>\n",
              "    <tr>\n",
              "      <th>min</th>\n",
              "      <td>0.255248</td>\n",
              "    </tr>\n",
              "    <tr>\n",
              "      <th>25%</th>\n",
              "      <td>1.499217</td>\n",
              "    </tr>\n",
              "    <tr>\n",
              "      <th>50%</th>\n",
              "      <td>2.000386</td>\n",
              "    </tr>\n",
              "    <tr>\n",
              "      <th>75%</th>\n",
              "      <td>2.995194</td>\n",
              "    </tr>\n",
              "    <tr>\n",
              "      <th>max</th>\n",
              "      <td>4.999680</td>\n",
              "    </tr>\n",
              "  </tbody>\n",
              "</table>\n",
              "</div>"
            ],
            "text/plain": [
              "                   0\n",
              "count  100000.000000\n",
              "mean        2.332232\n",
              "std         1.043913\n",
              "min         0.255248\n",
              "25%         1.499217\n",
              "50%         2.000386\n",
              "75%         2.995194\n",
              "max         4.999680"
            ]
          },
          "metadata": {
            "tags": []
          },
          "execution_count": 8
        }
      ]
    }
  ]
}